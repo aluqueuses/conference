{
 "metadata": {
  "name": "",
  "signature": "sha256:2eae04ae81c8335297189a2151ad156622f49a5206f3b268987744cfa4467554"
 },
 "nbformat": 3,
 "nbformat_minor": 0,
 "worksheets": [
  {
   "cells": [
    {
     "cell_type": "markdown",
     "metadata": {},
     "source": [
      "# Identify Shotgun Submissions\n",
      "\n",
      "### June 8th 2014 Neil Lawrence\n",
      "\n",
      "Shotgun submissions are mutliple submissions from a similar set of authors. These submissions should be identified so that, in the worst case, they can be rejected outright, or they can be allocated to the same area chair who can be made aware of the issue. This script reads in a paper list downloaded from CMT and does an analysis of the shotgun submissions. It makes use of `nltk` for stemming."
     ]
    },
    {
     "cell_type": "code",
     "collapsed": false,
     "input": [
      "import cmtutils\n",
      "import nltk\n",
      "import numpy as np\n",
      "import pandas as pd\n",
      "import pylab as pb\n",
      "\n",
      "#nltk.download() --- required at first time of running."
     ],
     "language": "python",
     "metadata": {},
     "outputs": [],
     "prompt_number": 1
    },
    {
     "cell_type": "markdown",
     "metadata": {},
     "source": [
      "Load in latest list of papers."
     ]
    },
    {
     "cell_type": "code",
     "collapsed": false,
     "input": [
      "filename = '2014-06-08_paper_list.xls'\n",
      "cmt = cmtutils.cmt_papers_read(filename=filename)"
     ],
     "language": "python",
     "metadata": {},
     "outputs": [],
     "prompt_number": 2
    },
    {
     "cell_type": "markdown",
     "metadata": {},
     "source": [
      "Abstract summary words for title, authors and abstracts."
     ]
    },
    {
     "cell_type": "code",
     "collapsed": false,
     "input": [
      "words = {'title':{}, 'author':{}, 'abstract':{}, 'keywords':{}}\n",
      "for id in cmt.papers.index:\n",
      "    #if int(id) < 1000:\n",
      "    words['abstract'][id] = cmtutils.extract_stem_words(cmt.papers['Abstract'][id])\n",
      "    words['title'][id] = cmtutils.extract_stem_words(cmt.papers['Title'][id])\n",
      "    words['author'][id] = [author.strip() for author in cmt.papers['AuthorEmails'][id].split(';')]\n",
      "    words['keywords'][id] = [keyword.strip().replace('*', '') for keyword in cmt.papers['SubjectAreas'][id].split(';')]"
     ],
     "language": "python",
     "metadata": {},
     "outputs": []
    },
    {
     "cell_type": "markdown",
     "metadata": {},
     "source": [
      "Construct similarity matrices by matching across the word lists (would be quicker and more sensible to tokenize to do this). "
     ]
    },
    {
     "cell_type": "code",
     "collapsed": false,
     "input": [
      "num_papers = len(cmt.papers.index)\n",
      "S = {}\n",
      "for key in words.keys():\n",
      "    S[key] = pd.DataFrame(np.zeros((num_papers, num_papers)), \n",
      "                 index=cmt.papers.index, \n",
      "                 columns=cmt.papers.index)\n",
      "\n",
      "for id1 in cmt.papers.index:\n",
      "    for id2 in cmt.papers.index:\n",
      "        for key in S.keys():\n",
      "            S[key][id1][id2] = len(set(words[key][id1]) & set(words[key][id2]))\n"
     ],
     "language": "python",
     "metadata": {},
     "outputs": [],
     "prompt_number": 4
    },
    {
     "cell_type": "markdown",
     "metadata": {},
     "source": [
      "Normalize the similarities so that the diagonal is set to 1."
     ]
    },
    {
     "cell_type": "code",
     "collapsed": false,
     "input": [
      "nS = {}\n",
      "for key in S:\n",
      "    D = np.sqrt(np.diag(S[key]))\n",
      "    nS[key] = S[key]/D\n",
      "    nS[key] = (nS[key].T/D).T"
     ],
     "language": "python",
     "metadata": {},
     "outputs": [],
     "prompt_number": 5
    },
    {
     "cell_type": "markdown",
     "metadata": {},
     "source": [
      "Set a threshold for how close is a match. Go through the similarities and find all abover threshold abstract scores where there is a non-zero author overlap. "
     ]
    },
    {
     "cell_type": "code",
     "collapsed": false,
     "input": [
      "thresh = 0.3\n",
      "duplicates = []\n",
      "string = []\n",
      "url_stem = 'https://cmt.research.microsoft.com/NIPS2014/Protected/Chair/ViewSubmissionDetails.aspx?paperId='\n",
      "for id in cmt.papers.index:\n",
      "    dup_list = nS['abstract'][id][nS['abstract'][id]>thresh]\n",
      "    if len(dup_list)>1:\n",
      "        for id2 in dup_list.index:\n",
      "            if not id2 == id:\n",
      "                if int(id) < int(id2):\n",
      "                    author_overlap = nS['author'][id][id2]\n",
      "                    if author_overlap>0:\n",
      "                        #print 'Potential Duplicate Papers'\n",
      "                        #print 'Abstract overlap', dup_list[id2], 'and author overlap', author_overlap\n",
      "                        #print 'https://cmt.research.microsoft.com/NIPS2014/Protected/Chair/ViewSubmissionDetails.aspx?paperId=' + id\n",
      "                        #print 'https://cmt.research.microsoft.com/NIPS2014/Protected/Chair/ViewSubmissionDetails.aspx?paperId=' + id2\n",
      "                        #print\n",
      "                        #duplicates.append([id, id2, dup_list[id2]])\n",
      "                        string.append([id, id2, str(dup_list[id2]), '', \n",
      "                                            url_stem + id, \n",
      "                                            url_stem + id2,\n",
      "                                            cmt.papers['Title'][id],\n",
      "                                            cmt.papers['Title'][id2],\n",
      "                                            cmt.papers['AuthorNames'][id].encode('utf8'),\n",
      "                                            cmt.papers['AuthorNames'][id2].encode('utf8')])"
     ],
     "language": "python",
     "metadata": {},
     "outputs": [],
     "prompt_number": 6
    },
    {
     "cell_type": "markdown",
     "metadata": {},
     "source": [
      "Write the information about shotgun matches in a CSV file for sharing with Corinna."
     ]
    },
    {
     "cell_type": "code",
     "collapsed": false,
     "input": [
      "import csv\n",
      "import os\n",
      "f = open(os.path.join(cmtutils.cmt_data_directory, \"shotgun_submissions.csv\"), 'wb')\n",
      "wr = csv.writer(f)\n",
      "wr.writerows(string)\n",
      "f.close()"
     ],
     "language": "python",
     "metadata": {},
     "outputs": [],
     "prompt_number": 7
    },
    {
     "cell_type": "markdown",
     "metadata": {},
     "source": [
      "Histogram of scores to make sure threshold of similarity is falling somewhere sensible."
     ]
    },
    {
     "cell_type": "code",
     "collapsed": false,
     "input": [
      "import pylab as plt\n",
      "a= plt.hist(nS['abstract'].values.flatten(), 100)\n"
     ],
     "language": "python",
     "metadata": {},
     "outputs": []
    },
    {
     "cell_type": "markdown",
     "metadata": {},
     "source": [
      "## Loading Corinna's Matches\n",
      "\n",
      "Corinna independently was also testing for shotgun papers. She'd saved her top 40 matches to file. Here we load them in and do a comparison. Then we save a combined file."
     ]
    },
    {
     "cell_type": "code",
     "collapsed": false,
     "input": [
      "matches = pd.read_csv(os.path.join(cmtutils.cmt_data_directory, 'top_40_matches.csv'), header=0)\n",
      "for ind in matches.index:\n",
      "    id1 = str(matches['id1'][ind])\n",
      "    id2 = str(matches['id2'][ind])\n",
      "    #id2 = '2'\n",
      "    matches.loc[ind, 'score'] =  nS['abstract'][id1][id2]\n",
      "matches.to_csv(os.path.join(cmtutils.cmt_data_directory, 'top_40_matches_scores.csv'))"
     ],
     "language": "python",
     "metadata": {},
     "outputs": []
    },
    {
     "cell_type": "markdown",
     "metadata": {},
     "source": [
      "### Exploring the Papers"
     ]
    },
    {
     "cell_type": "markdown",
     "metadata": {},
     "source": [
      "Finally, just to get an idea of what's going on we compute the similarities between papers and project them onto their principal components for visualisation."
     ]
    },
    {
     "cell_type": "code",
     "collapsed": false,
     "input": [
      "import pylab as plt\n",
      "%matplotlib inline\n",
      "u, v = np.linalg.eig(nS)\n",
      "plt.plot(u[:, 0], u[:, 1], 'rx')\n",
      "plt.show()"
     ],
     "language": "python",
     "metadata": {},
     "outputs": []
    },
    {
     "cell_type": "markdown",
     "metadata": {},
     "source": [
      "Place principal components in a data frame."
     ]
    },
    {
     "cell_type": "code",
     "collapsed": false,
     "input": [
      "PCs = pd.DataFrame(v*u, index=cmt.papers.index, columns=['PC' + str(i) for i in np.arange(u.shape[0])])"
     ],
     "language": "python",
     "metadata": {},
     "outputs": []
    },
    {
     "cell_type": "markdown",
     "metadata": {},
     "source": [
      "Sort by first principal component and show the leading paper titles."
     ]
    },
    {
     "cell_type": "code",
     "collapsed": false,
     "input": [
      "sind = PCs.sort(columns='PC0').index\n",
      "cmt.papers['Title'][sind]"
     ],
     "language": "python",
     "metadata": {},
     "outputs": []
    },
    {
     "cell_type": "markdown",
     "metadata": {},
     "source": [
      "Plot first two principal components of data."
     ]
    },
    {
     "cell_type": "code",
     "collapsed": false,
     "input": [
      "plt.plot(PCs[:, 0], PCs[:, 1], 'rx')\n"
     ],
     "language": "python",
     "metadata": {},
     "outputs": []
    }
   ],
   "metadata": {}
  }
 ]
}