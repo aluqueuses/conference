{
 "metadata": {
  "name": "",
  "signature": "sha256:b5f6fa7148a3a0f5686cd2fc9023871cb5f346baaa6d6baaedbce5d269b8c999"
 },
 "nbformat": 3,
 "nbformat_minor": 0,
 "worksheets": [
  {
   "cells": [
    {
     "cell_type": "markdown",
     "metadata": {},
     "source": [
      "# Update Local DB with Emails from CMT Export of Reviewers\n",
      "\n",
      "### 4th May 2014 Neil D. Lawrence\n",
      "\n",
      "Reviewers can update their email address in CMT at any time. This is inconvenient because it's being used as the primary key to match reviewers to the local data base. This script tries to handle updates made in CMT and synchronize them across the local data base. It would be a lot easier to do this if we had access to the unique reviewer key stored in CMT (then we could use that as a primary key) but we don't seem to have access to that. In fact it was only very late on that I thought about it, and I haven't asked CMT if we can 'see' it."
     ]
    },
    {
     "cell_type": "code",
     "collapsed": false,
     "input": [
      "import cmtutils"
     ],
     "language": "python",
     "metadata": {},
     "outputs": [],
     "prompt_number": 1
    },
    {
     "cell_type": "markdown",
     "metadata": {},
     "source": [
      "To run this script, you need to export from CMT the list of users with `IsReviewer=Yes` (from the [Manage Users](https://cmt.research.microsoft.com/NIPS2014/Protected/Chair/Users/ManageUsers.aspx) section). This gives the entire list of reviewers in the system. Put the resulting file in the `cmtutils.nips_data_directory` and give the name of the exported file to python below. "
     ]
    },
    {
     "cell_type": "code",
     "collapsed": false,
     "input": [
      "filename = '2014-10-26_reviewer_export.xls'"
     ],
     "language": "python",
     "metadata": {},
     "outputs": [],
     "prompt_number": 9
    },
    {
     "cell_type": "markdown",
     "metadata": {},
     "source": [
      "Now we can read in the local data base and the export from CMT."
     ]
    },
    {
     "cell_type": "code",
     "collapsed": false,
     "input": [
      "# Read in the CMT export\n",
      "cmt=cmtutils.cmt_reviewers_read(filename=filename, header_row=3)\n",
      "# Open the reviewer data base\n",
      "db = cmtutils.reviewerdb('reviewers.db')"
     ],
     "language": "python",
     "metadata": {},
     "outputs": [],
     "prompt_number": 10
    },
    {
     "cell_type": "markdown",
     "metadata": {},
     "source": [
      "Now we reset all the `IsReviewer` fields in the database to NULL in case any reviewer has been deleted in CMT."
     ]
    },
    {
     "cell_type": "code",
     "collapsed": false,
     "input": [
      "db.update_fields(db.ids(), 'IsReviewer', None)"
     ],
     "language": "python",
     "metadata": {},
     "outputs": [
      {
       "metadata": {},
       "output_type": "pyout",
       "prompt_number": 11,
       "text": [
        "2926"
       ]
      }
     ],
     "prompt_number": 11
    },
    {
     "cell_type": "markdown",
     "metadata": {},
     "source": [
      "Now we try and match reviewers from the CMT export to emails in the reviewer data base. If they don't match by email, try and match by firstname/lastname. We query the user as to whether to accept firstname/lastname matches automatically. If you answer no then that reviewer isn't updated, but you'll need to do some manual investigation to find out what's going on (it's probable that a CMT user has updated both their email and their firstname/lastname)."
     ]
    },
    {
     "cell_type": "code",
     "collapsed": false,
     "input": [
      "for i, reviewer in cmt.reviewers.iterrows():\n",
      "    id = db.match_or_add_reviewer(reviewer, match_firstname=True, primary_email=True, yes=True)\n",
      "    if id:\n",
      "        db.set_reviewer(id)"
     ],
     "language": "python",
     "metadata": {},
     "outputs": [
      {
       "output_type": "stream",
       "stream": "stdout",
       "text": [
        "No email match.\n",
        "Attempting lastname/firstname match for  David  Reichert with email reichert@google.com\n",
        "Lastname/firstname match failed\n",
        "Finding matching first names.\n",
        "Finding matching last names.\n",
        "Requesting User input for Name Match.\n",
        "261\tDavid\tBalduzzi\n",
        "262\tDavid\tBraun\n",
        "263\tDavid\tRosenberg\n",
        "264\tDavid\tLopez-Paz\n",
        "265\tDavid\tMimno\n",
        "266\tDavid\tGrangier\n",
        "267\tDavid\tReichert\n",
        "268\tDavid\tWipf\n",
        "269\tDavid\tSontag\n",
        "270\tDavid\tDunson\n",
        "271\tDavid\tDuvenaud\n",
        "272\tDavid\tPal\n",
        "273\tDavid\tHall\n",
        "274\tDavid\tBlei\n",
        "275\tDavid\tFleet\n",
        "276\tDavid\tKnowles\n",
        "277\tDavid\tPoole\n",
        "278\tDavid\tPage\n",
        "279\tDavid\tWingate\n",
        "1244\tDavid\tSilver\n",
        "1279\tDavid\tMcAllester\n",
        "1405\tDavid\tForsyth\n",
        "1482\tDavid\tWeiss\n",
        "1599\tDavid\tNott\n",
        "1767\tDavid\tHelmbold\n",
        "1777\tDavid\tSmith\n",
        "1886\tDavid\tNewman\n",
        "1932\tDavid\tHsu\n",
        "2021\tDavid\tPfau\n",
        "2026\tDavid\tUminsky\n",
        "2098\tDavid\tParkes\n",
        "2101\tDavid\tDanks\n",
        "2149\tDavid\tCarlson\n",
        "2163\tDavid\tSuter\n",
        "2196\tDavid\tBarber\n",
        "2227\tDavid\tEigen\n",
        "2259\tDavid\tBarrett\n",
        "2266\tDavid\tBelanger\n",
        "2444\tDavid\tHaglin\n",
        "2535\tDavid\tKriegman\n",
        "2762\tDavid\tSheinberg\n",
        "2843\tDavid\tVerstraeten\n",
        "2874\tDavid\tWilcox\n",
        "2880\tDavid\tWoodruff\n",
        "2985\tDavid\tWarde-Farley\n",
        "267\tDavid\tReichert\n"
       ]
      },
      {
       "output_type": "stream",
       "stream": "stdout",
       "text": [
        "\n"
       ]
      },
      {
       "name": "stdout",
       "output_type": "stream",
       "stream": "stdout",
       "text": [
        "David  Reichert add to a given ID? N267\n"
       ]
      },
      {
       "output_type": "stream",
       "stream": "stdout",
       "text": [
        "Selected reviewer  267\n",
        "Updating  OtherEmails  to  'david_reichert@brown.edu'\n",
        "Updating  Email  to  'reichert@google.com'\n",
        "No email match."
       ]
      },
      {
       "output_type": "stream",
       "stream": "stdout",
       "text": [
        "\n",
        "Attempting lastname/firstname match for  Robert Schapire with email schapire@microsoft.com\n",
        "Lastname/firstname match succesful. Substituting primary email.\n"
       ]
      },
      {
       "name": "stdout",
       "output_type": "stream",
       "stream": "stdout",
       "text": [
        "Proceed? (Y):(default: Y)\n"
       ]
      },
      {
       "output_type": "stream",
       "stream": "stdout",
       "text": [
        "Updating  OtherEmails  to  'schapire@cs.princeton.edu'\n",
        "Updating  Email  to  'schapire@microsoft.com'\n",
        "No email match."
       ]
      },
      {
       "output_type": "stream",
       "stream": "stdout",
       "text": [
        "\n",
        "Attempting lastname/firstname match for  Xianghang Liu with email xianghangliu@gmail.com\n",
        "Lastname/firstname match succesful. Substituting primary email.\n"
       ]
      },
      {
       "name": "stdout",
       "output_type": "stream",
       "stream": "stdout",
       "text": [
        "Proceed? (Y):(default: Y)\n"
       ]
      },
      {
       "output_type": "stream",
       "stream": "stdout",
       "text": [
        "Updating  OtherEmails  to  'xianghang.liu@nicta.com.au'\n",
        "Updating  Email  to  'xianghangliu@gmail.com'\n",
        "No email match."
       ]
      },
      {
       "output_type": "stream",
       "stream": "stdout",
       "text": [
        "\n",
        "Attempting lastname/firstname match for  Hyokun Yun with email yunhyoku@amazon.com\n",
        "Lastname/firstname match succesful. Substituting primary email.\n"
       ]
      },
      {
       "name": "stdout",
       "output_type": "stream",
       "stream": "stdout",
       "text": [
        "Proceed? (Y):(default: Y)\n"
       ]
      },
      {
       "output_type": "stream",
       "stream": "stdout",
       "text": [
        "Updating  OtherEmails  to  'yun3@purdue.edu'\n",
        "Updating  Email  to  'yunhyoku@amazon.com'\n"
       ]
      }
     ],
     "prompt_number": 13
    },
    {
     "cell_type": "code",
     "collapsed": false,
     "input": [
      "for i, reviewer in cmt.reviewers.iterrows():\n",
      "    id = db.match_reviewer(reviewer, match_firstname=True, primary_email=True)\n",
      "    if id:\n",
      "        db.set_reviewer(id)"
     ],
     "language": "python",
     "metadata": {},
     "outputs": [],
     "prompt_number": 14
    },
    {
     "cell_type": "markdown",
     "metadata": {},
     "source": [
      "Now perform a sanity check to count the number of users with `IsReviewer=1` in the local data base. This should tally with the number of reviewers in CMT."
     ]
    },
    {
     "cell_type": "code",
     "collapsed": false,
     "input": [
      "selection_criteria = \"\"\"IsReviewer=1\"\"\"\n",
      "db._execute_sql('SELECT COUNT(Active) FROM Reviewers WHERE ' + selection_criteria + ';')\n",
      "#db.export_reviewers(sql=selection_criteria)"
     ],
     "language": "python",
     "metadata": {},
     "outputs": [
      {
       "metadata": {},
       "output_type": "pyout",
       "prompt_number": 15,
       "text": [
        "[(1537,)]"
       ]
      }
     ],
     "prompt_number": 15
    },
    {
     "cell_type": "markdown",
     "metadata": {},
     "source": [
      "If any reviewers have updated their emails, we need to re-export the list of CMT reviewers for the Toronto paper matching system. See [this notebook](./Remind Missing TPMS.ipynb) to extract emails of reviewers missing from TPMS."
     ]
    },
    {
     "cell_type": "code",
     "collapsed": false,
     "input": [
      "db.export_tpm(sql=selection_criteria)"
     ],
     "language": "python",
     "metadata": {},
     "outputs": [],
     "prompt_number": 16
    },
    {
     "cell_type": "markdown",
     "metadata": {},
     "source": [
      "### Updating Area Chair Emails\n",
      "\n",
      "You can also do the same for area chairs. But normally they are all listed as reviewers anyway, so doing the above process works also for area chairs. You may need to run it, though, if you have deleted or added area chairs inside CMT. Again, the first thing you need is a the CMT export of area chairs (`IsMetaReviewer=Yes` from the [Manage Users](https://cmt.research.microsoft.com/NIPS2014/Protected/Chair/Users/ManageUsers.aspx) section). Specify that file below. "
     ]
    },
    {
     "cell_type": "code",
     "collapsed": false,
     "input": [
      "filename_meta = '2014-10-26_meta_reviewer_export.xls'"
     ],
     "language": "python",
     "metadata": {},
     "outputs": [],
     "prompt_number": 17
    },
    {
     "cell_type": "markdown",
     "metadata": {},
     "source": [
      "Now update the local data base, just as above, with a sanity check performed at the end."
     ]
    },
    {
     "cell_type": "code",
     "collapsed": false,
     "input": [
      "\n",
      "cmt_meta= cmtutils.cmt_reviewersread(filename=filename_meta, header_row=3)\n",
      "# remove all meta reviewers.\n",
      "db.update_fields(db.ids(), 'IsMetaReviewer', None)\n",
      "\n",
      "# Update from the CMT export of meta reviewers.\n",
      "for i, reviewer in cmt_meta.reviewers.iterrows():\n",
      "    id = db.match_reviewer(reviewer, match_firstname=True, primary_email=True)\n",
      "    if id:\n",
      "        db.update_field(id, 'IsMetaReviewer', 1)\n",
      "\n",
      "selection_criteria = \"\"\"IsMetaReviewer=1\"\"\"\n",
      "db._execute_sql('SELECT COUNT(Active) FROM Reviewers WHERE ' + selection_criteria + ';')"
     ],
     "language": "python",
     "metadata": {},
     "outputs": [
      {
       "ename": "AttributeError",
       "evalue": "'module' object has no attribute 'cmt_read'",
       "output_type": "pyerr",
       "traceback": [
        "\u001b[0;31m---------------------------------------------------------------------------\u001b[0m\n\u001b[0;31mAttributeError\u001b[0m                            Traceback (most recent call last)",
        "\u001b[0;32m<ipython-input-18-1aff0b22bd39>\u001b[0m in \u001b[0;36m<module>\u001b[0;34m()\u001b[0m\n\u001b[1;32m      1\u001b[0m \u001b[0;34m\u001b[0m\u001b[0m\n\u001b[0;32m----> 2\u001b[0;31m \u001b[0mcmt_meta\u001b[0m\u001b[0;34m=\u001b[0m \u001b[0mcmtutils\u001b[0m\u001b[0;34m.\u001b[0m\u001b[0mcmt_read\u001b[0m\u001b[0;34m(\u001b[0m\u001b[0mfilename\u001b[0m\u001b[0;34m=\u001b[0m\u001b[0mfilename_meta\u001b[0m\u001b[0;34m,\u001b[0m \u001b[0mheader_row\u001b[0m\u001b[0;34m=\u001b[0m\u001b[0;36m3\u001b[0m\u001b[0;34m)\u001b[0m\u001b[0;34m\u001b[0m\u001b[0m\n\u001b[0m\u001b[1;32m      3\u001b[0m \u001b[0;31m# remove all meta reviewers.\u001b[0m\u001b[0;34m\u001b[0m\u001b[0;34m\u001b[0m\u001b[0m\n\u001b[1;32m      4\u001b[0m \u001b[0mdb\u001b[0m\u001b[0;34m.\u001b[0m\u001b[0mupdate_fields\u001b[0m\u001b[0;34m(\u001b[0m\u001b[0mdb\u001b[0m\u001b[0;34m.\u001b[0m\u001b[0mids\u001b[0m\u001b[0;34m(\u001b[0m\u001b[0;34m)\u001b[0m\u001b[0;34m,\u001b[0m \u001b[0;34m'IsMetaReviewer'\u001b[0m\u001b[0;34m,\u001b[0m \u001b[0mNone\u001b[0m\u001b[0;34m)\u001b[0m\u001b[0;34m\u001b[0m\u001b[0m\n\u001b[1;32m      5\u001b[0m \u001b[0;34m\u001b[0m\u001b[0m\n",
        "\u001b[0;31mAttributeError\u001b[0m: 'module' object has no attribute 'cmt_read'"
       ]
      }
     ],
     "prompt_number": 18
    },
    {
     "cell_type": "code",
     "collapsed": false,
     "input": [
      "selection_criteria = \"\"\"IsMetaReviewer=1\"\"\"\n",
      "db._execute_sql('SELECT COUNT(Active) FROM Reviewers WHERE ' + selection_criteria + ';')"
     ],
     "language": "python",
     "metadata": {},
     "outputs": [
      {
       "metadata": {},
       "output_type": "pyout",
       "prompt_number": 10,
       "text": [
        "[(92,)]"
       ]
      }
     ],
     "prompt_number": 10
    },
    {
     "cell_type": "code",
     "collapsed": false,
     "input": [],
     "language": "python",
     "metadata": {},
     "outputs": []
    }
   ],
   "metadata": {}
  }
 ]
}