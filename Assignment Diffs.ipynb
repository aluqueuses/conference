{
 "metadata": {
  "name": "",
  "signature": "sha256:0b6f27e8a102c7b328ccb0c9ba2bf48f16c5c858e9ae641e9963bd212402a580"
 },
 "nbformat": 3,
 "nbformat_minor": 0,
 "worksheets": [
  {
   "cells": [
    {
     "cell_type": "markdown",
     "metadata": {},
     "source": [
      "# Assignment Differences\n",
      "\n",
      "### 8th July 2014 Neil D. Lawrence\n",
      "\n",
      "During the review process there are problems with some reviewers not managing to complete their allocation. Or there may be more expertise required on an individual paper. Unfortunately, when a reviewer's allocation changes, they are not necessariliy informed. We developed scripts to check what the difference between two allocations was.\n",
      "\n",
      "Here we load in two assignment files and compute the differences so that those who have gained assignments can be emailed to let them know. The first thing to do is load in the two assignment files. First we load in an assignment from the 1st July."
     ]
    },
    {
     "cell_type": "code",
     "collapsed": false,
     "input": [
      "import cmtutils\n",
      "a1 = cmtutils.assignment()\n",
      "a1.load_assignment('2014-07-01_reviewer_assignments.txt')"
     ],
     "language": "python",
     "metadata": {},
     "outputs": []
    },
    {
     "cell_type": "markdown",
     "metadata": {},
     "source": [
      "Now we load in an assignment from the 8th July."
     ]
    },
    {
     "cell_type": "code",
     "collapsed": false,
     "input": [
      "a2 = cmtutils.assignment()\n",
      "a2.load_assignment('2014-07-08_reviewer_assignments.txt')"
     ],
     "language": "python",
     "metadata": {},
     "outputs": []
    },
    {
     "cell_type": "markdown",
     "metadata": {},
     "source": [
      "Now the difference can be computed."
     ]
    },
    {
     "cell_type": "code",
     "collapsed": false,
     "input": [
      "d = a1.diff(a2)"
     ],
     "language": "python",
     "metadata": {},
     "outputs": []
    },
    {
     "cell_type": "markdown",
     "metadata": {},
     "source": [
      "And those reviewers who have gained a review can be shown by joining them with a list."
     ]
    },
    {
     "cell_type": "code",
     "collapsed": false,
     "input": [
      "';'.join(d.gain_reviewer['reviewer'])"
     ],
     "language": "python",
     "metadata": {},
     "outputs": []
    },
    {
     "cell_type": "markdown",
     "metadata": {},
     "source": [
      "Similarly those who've lost a review can also be seen."
     ]
    },
    {
     "cell_type": "code",
     "collapsed": false,
     "input": [
      "';'.join(a1.diff(a2).loss_reviewer['reviewer'])"
     ],
     "language": "python",
     "metadata": {},
     "outputs": []
    }
   ],
   "metadata": {}
  }
 ]
}