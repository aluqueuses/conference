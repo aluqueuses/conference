{
 "metadata": {
  "name": "",
  "signature": "sha256:ab6aac3a11619c71f1ee6b8a7d583f93e403fd2e6daf8424ae77b559ae44081e"
 },
 "nbformat": 3,
 "nbformat_minor": 0,
 "worksheets": [
  {
   "cells": [
    {
     "cell_type": "markdown",
     "metadata": {},
     "source": [
      "# Add Reviewers to Database\n",
      "\n",
      "### January 2014 Neil D. Lawrence\n",
      "#### Updated October 2014 \n",
      "\n",
      "This notebook allows us to merge in reviewers from a CMT export file. It is to be used when you aren't confident about whether the reviewers being merged in are already in the data base or not. For this reason it will query you more carefully over whether a reviewer should be added.\n",
      "\n",
      "### Backing Up\n",
      "The first thing is to load in the reviewer data base. I suggest you **back up** your data base before doing this operation just in case something goes wrong."
     ]
    },
    {
     "cell_type": "code",
     "collapsed": false,
     "input": [
      "import cmtutils\n",
      "db = cmtutils.reviewerdb('test.db')"
     ],
     "language": "python",
     "metadata": {},
     "outputs": []
    },
    {
     "cell_type": "markdown",
     "metadata": {},
     "source": [
      "## Adding Reviewers from CMT Export\n",
      "\n",
      "Now we specify the source of (potential) reviewers we are loading in. In this notebook we consider two examples where we are loading in new data base users. In the first example the source could be the previous list of reviewers from the conference (found via a CMT export)."
     ]
    },
    {
     "cell_type": "code",
     "collapsed": false,
     "input": [
      "# this file can be a CMT user list exported\n",
      "filename='aistats2012reviewers.xls'\n",
      "# this field will tag the data base for the source of the user.\n",
      "fieldname = 'FromAISTATS2012' \n",
      "new_users=cmtutils.cmt_reviewers_read(filename=filename)"
     ],
     "language": "python",
     "metadata": {},
     "outputs": []
    },
    {
     "cell_type": "markdown",
     "metadata": {},
     "source": [
      "Now we can add in the field for recording the reviewer source to the data base."
     ]
    },
    {
     "cell_type": "code",
     "collapsed": false,
     "input": [
      "db.add_field(fieldname, 'INTEGER') # add the recording field if it's not already present\n",
      "\n",
      "# This line will set the field name to NULL if required. Turned off by default.\n",
      "if False:\n",
      "    db.update_fields(db.ids(), fieldname=fieldname, fieldvalue=None)"
     ],
     "language": "python",
     "metadata": {},
     "outputs": []
    },
    {
     "cell_type": "markdown",
     "metadata": {},
     "source": [
      "If we want to see the list of new reviewers we can check who they are. They are stored as a `pandas` data frame."
     ]
    },
    {
     "cell_type": "code",
     "collapsed": false,
     "input": [
      "new_users.reviewers"
     ],
     "language": "python",
     "metadata": {},
     "outputs": []
    },
    {
     "cell_type": "markdown",
     "metadata": {},
     "source": [
      "### Adding Reviewers to the Data Base\n",
      "\n",
      "Try and match or add the reviewer to the system. You don't want to necessarily add them as reviewers straight away, but you may need to know the origin of the new users in the data base. For that reason we add the `user_list` field name to the data base and set its value to 1 if any users are added to the data base from this source.\n",
      "\n",
      "You will be queried for each user whether you want them to be added to the local data base. "
     ]
    },
    {
     "cell_type": "code",
     "collapsed": false,
     "input": [
      "db.add_users(new_users.reviewers, yes=False, query=True, fieldname=fieldname)"
     ],
     "language": "python",
     "metadata": {},
     "outputs": []
    },
    {
     "cell_type": "markdown",
     "metadata": {},
     "source": [
      "Now you have finished the queries you can check how many users you've added with the following SQL query on the data base."
     ]
    },
    {
     "cell_type": "code",
     "collapsed": false,
     "input": [
      "# This is number of added users.\n",
      "db._execute_sql('SELECT COUNT(Active) FROM Reviewers WHERE ' + fieldname + '=1;')"
     ],
     "language": "python",
     "metadata": {},
     "outputs": []
    },
    {
     "cell_type": "markdown",
     "metadata": {},
     "source": [
      "### Exporting Reviewers\n",
      "\n",
      "Now we can export the reviewers ready for importing into CMT."
     ]
    },
    {
     "cell_type": "code",
     "collapsed": false,
     "input": [
      "db.export_reviewers(filename='aistats_2012_reviewers.txt', sql=fieldname + '=1')"
     ],
     "language": "python",
     "metadata": {},
     "outputs": []
    },
    {
     "cell_type": "markdown",
     "metadata": {},
     "source": [
      "## Incorporating Google Sheet Information\n",
      "\n",
      "For NIPS 2014 we had our area chairs suggest reviewers in a google spreadsheet. We used a form for this. The form created reviewer suggestions with the fields we need for CMT (We also stored our own suggestions for reviewers in a google spreadsheet. Below we show how to extract informatinon from the google spreadsheet (the spreadsheet key is set in the `defaults.cfg` file or your own `.cmt_user.cfg` configuration file). "
     ]
    },
    {
     "cell_type": "code",
     "collapsed": false,
     "input": [
      "from config import config\n",
      "spreadsheet_key = config.get('google docs', 'reviewer_candidate_key')\n",
      "spreadsheet_name = 'Area Chair Reviewer Suggestions'\n",
      "fieldname = 'AreaChairSuggestion'\n",
      "ds = cmtutils.drive_store(spreadsheet_key, spreadsheet_name) # this opens the google sheet.\n",
      "# Column_fields causes these new column names to replace those in the spreadsheet \n",
      "# (which come from the form) in the pandas DataFrame we recover\n",
      "column_fields={'1':'TimeStamp', '2':'FirstName', '3':'LastName', '4':'MiddleNames', \n",
      "               '5':'Email', '6':'Institute', '7':'Nominator', '9':'ScholarID'}\n",
      "ds.read(column_fields=column_fields)"
     ],
     "language": "python",
     "metadata": {},
     "outputs": []
    },
    {
     "cell_type": "markdown",
     "metadata": {},
     "source": [
      "Then if you want to add them to the data base you can use the `add_users()` feature as before."
     ]
    },
    {
     "cell_type": "code",
     "collapsed": false,
     "input": [
      "db.add_field(fieldname, 'INTEGER') # add the recording field if it's not already present\n",
      "db.add_users(ds.reviewers, yes=False, query=True, fieldname=fieldname)"
     ],
     "language": "python",
     "metadata": {},
     "outputs": []
    },
    {
     "cell_type": "markdown",
     "metadata": {},
     "source": [
      "Now we can export a tab separated values file ready for import into CMT."
     ]
    },
    {
     "cell_type": "code",
     "collapsed": false,
     "input": [
      "db.export_reviewers(filename='area_chair_suggestions.txt', sql=fieldname +'=1')"
     ],
     "language": "python",
     "metadata": {},
     "outputs": []
    }
   ],
   "metadata": {}
  }
 ]
}