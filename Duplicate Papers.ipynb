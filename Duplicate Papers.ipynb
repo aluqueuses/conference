{
 "metadata": {
  "name": "",
  "signature": "sha256:660ccb69150a518e5d2843878d47448521095954d1a7d6007540ca62e6483210"
 },
 "nbformat": 3,
 "nbformat_minor": 0,
 "worksheets": [
  {
   "cells": [
    {
     "cell_type": "markdown",
     "metadata": {},
     "source": [
      "# NIPS Experiment: Duplicate Papers\n",
      "\n",
      "### Neil D. Lawrence 9th June 2014\n",
      "\n",
      "In 2014 for NIPS we chose to do an experiment where 10% of papers were rereviewed. To do this we needed to split the program committee so that no program member would see the same paper twice.\n",
      "\n",
      "This notebook selects 10% of papers randomly for duplication. It then reads the allocated split of area chairs into two groups: `group1` and `group2` (from `AC.groups.csv`). It loads in the reviewers from the reviewer database and splits them into two equally sized groups randomly. "
     ]
    },
    {
     "cell_type": "code",
     "collapsed": false,
     "input": [
      "import cmtutils\n",
      "import sqlite3\n",
      "import os\n",
      "import pandas as pd\n",
      "import numpy as np\n",
      "import csv\n",
      "np.random.seed(seed=130000) # set the seed so that the split is repeatable."
     ],
     "language": "python",
     "metadata": {},
     "outputs": [],
     "prompt_number": 10
    },
    {
     "cell_type": "markdown",
     "metadata": {},
     "source": [
      "First load in the papers from the paper data base."
     ]
    },
    {
     "cell_type": "code",
     "collapsed": false,
     "input": [
      "\n",
      "filename = '2014-06-06_paper_list.xls'\n",
      "cmt = cmtutils.cmt_papers_read(filename=filename)"
     ],
     "language": "python",
     "metadata": {},
     "outputs": [],
     "prompt_number": 11
    },
    {
     "cell_type": "markdown",
     "metadata": {},
     "source": [
      "Now permute the paper list and select 170 (approximately 10%) for duplication. Sort the resulting list for convenience."
     ]
    },
    {
     "cell_type": "code",
     "collapsed": false,
     "input": [
      "duplicate_list = np.random.permutation(cmt.papers.index)[:170]\n",
      "duplicate_list.sort()"
     ],
     "language": "python",
     "metadata": {},
     "outputs": [],
     "prompt_number": 12
    },
    {
     "cell_type": "markdown",
     "metadata": {},
     "source": [
      "Save the duplicate list to a `.csv` file to export it to CMT."
     ]
    },
    {
     "cell_type": "code",
     "collapsed": false,
     "input": [
      "f = open(os.path.join(cmtutils.nips_data_directory, \"duplicate_papers.csv\"), 'wb')\n",
      "wr = csv.writer(f)\n",
      "wr.writerow(duplicate_list)\n",
      "f.close()"
     ],
     "language": "python",
     "metadata": {},
     "outputs": [],
     "prompt_number": 13
    },
    {
     "cell_type": "markdown",
     "metadata": {},
     "source": [
      "Connect to the reviewer data base and load in all reviewers indexing by email."
     ]
    },
    {
     "cell_type": "code",
     "collapsed": false,
     "input": [
      "con = sqlite3.connect(os.path.join(cmtutils.nips_data_directory, \"reviewers.db\"))\n",
      "all_reviewers = pd.read_sql(\"SELECT * from Reviewers WHERE IsReviewer=1\", con, index_col='Email')"
     ],
     "language": "python",
     "metadata": {},
     "outputs": [],
     "prompt_number": 14
    },
    {
     "cell_type": "markdown",
     "metadata": {},
     "source": [
      "Read the list allocating area chairs to groups from `AC.groups.csv`."
     ]
    },
    {
     "cell_type": "code",
     "collapsed": false,
     "input": [
      "area_chairs = pd.read_csv(os.path.join(cmtutils.nips_data_directory, \"AC.groups.csv\"), index_col='Email')"
     ],
     "language": "python",
     "metadata": {},
     "outputs": [],
     "prompt_number": 15
    },
    {
     "cell_type": "markdown",
     "metadata": {},
     "source": [
      "Now find index (Email) of every reviewer that isn't an area chair, randomly permute the list."
     ]
    },
    {
     "cell_type": "code",
     "collapsed": false,
     "input": [
      "reviewer_groups = all_reviewers.join(area_chairs)\n",
      "meta_reviewer_series = reviewer_groups.loc[:, 'IsMetaReviewer']\n",
      "reviewer_index = np.random.permutation(series[pd.isnull(meta_reviewer_series)].index)"
     ],
     "language": "python",
     "metadata": {},
     "outputs": [],
     "prompt_number": 16
    },
    {
     "cell_type": "markdown",
     "metadata": {},
     "source": [
      "Now split that list into two and allocate reviewers to groups"
     ]
    },
    {
     "cell_type": "code",
     "collapsed": false,
     "input": [
      "l = len(reviewer_index)\n",
      "group1_list = reviewer_index[:l/2]\n",
      "group2_list = reviewer_index[l/2:]\n",
      "for ind in group1_list:\n",
      "    reviewer_groups.loc[ind, 'Group'] = 'group1'\n",
      "for ind in group2_list:\n",
      "    reviewer_groups.loc[ind, 'Group'] = 'group2'\n",
      "reviewer_groups.describe()\n",
      "ndf = reviewer_groups.groupby('Group').size() # check group sizes are roughly equal.\n",
      "print ndf          "
     ],
     "language": "python",
     "metadata": {},
     "outputs": [
      {
       "output_type": "stream",
       "stream": "stdout",
       "text": [
        "Group\n",
        "group1    742\n",
        "group2    741\n",
        "dtype: int64\n"
       ]
      }
     ],
     "prompt_number": 17
    },
    {
     "cell_type": "markdown",
     "metadata": {},
     "source": [
      "Write the reviewer groups to file."
     ]
    },
    {
     "cell_type": "code",
     "collapsed": false,
     "input": [
      "reviewer_groups.loc[:, 'Group'].to_csv(os.path.join(cmtutils.nips_data_directory, \"reviewer_groups.csv\"))"
     ],
     "language": "python",
     "metadata": {},
     "outputs": [],
     "prompt_number": 18
    }
   ],
   "metadata": {}
  }
 ]
}