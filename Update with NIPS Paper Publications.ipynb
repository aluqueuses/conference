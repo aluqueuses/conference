{
 "metadata": {
  "name": "",
  "signature": "sha256:c8c1c4480c02f1f0c5e299d62aa2da771e2b30548ace6f64204ba5a510739ed8"
 },
 "nbformat": 3,
 "nbformat_minor": 0,
 "worksheets": [
  {
   "cells": [
    {
     "cell_type": "markdown",
     "metadata": {},
     "source": [
      "# Extract Paper Publication info from NIPS Export\n",
      "\n",
      "## May 4th 2014 Neil D. Lawrence\n",
      "\n",
      "This notebook loads in exports from the NIPS system which contain the number of papers published by each user in the system since a given year."
     ]
    },
    {
     "cell_type": "code",
     "collapsed": false,
     "input": [
      "import cmtutils\n",
      "db = cmtutils.reviewerdb('reviewers.db')"
     ],
     "language": "python",
     "metadata": {},
     "outputs": []
    },
    {
     "cell_type": "markdown",
     "metadata": {},
     "source": [
      "Extract the number of papers published by each user at NIPS since 2007."
     ]
    },
    {
     "cell_type": "code",
     "collapsed": false,
     "input": [
      "db.add_field('PapersSince2007') # add the field if it doesn't already exist\n",
      "ds = cmtutils.csv_read('NIPS-ReviwerCandidates-1-since-2007-2014-05-04.csv')\n",
      "for reviewer in ds.reviewers:\n",
      "    id = db.match_reviewer(reviewer, match_firstname=False, match_lastname=False, primary_email=False)\n",
      "    if id:\n",
      "        db.update_field(id, 'PapersSince2007', reviewer['NumPapers'])\n"
     ],
     "language": "python",
     "metadata": {},
     "outputs": []
    },
    {
     "cell_type": "markdown",
     "metadata": {},
     "source": [
      "This is information from Chris Hiestand on how many papers a reviewer has published since 2012."
     ]
    },
    {
     "cell_type": "code",
     "collapsed": false,
     "input": [
      "db.add_field('PapersSince2012') # add the field if it doesn't already exist\n",
      "ds = cmtutils.csv_read('NIPS-ReviwerCandidates-1-since-2012-2014-05-04.csv')\n",
      "for reviewer in ds.reviewers:\n",
      "    id = db.match_reviewer(reviewer, match_firstname=False, match_lastname=False, primary_email=False)\n",
      "    if id:\n",
      "        db.update_field(id, 'PapersSince2012', reviewer['NumPapers'])\n"
     ],
     "language": "python",
     "metadata": {},
     "outputs": []
    }
   ],
   "metadata": {}
  }
 ]
}