{
 "metadata": {
  "name": "",
  "signature": "sha256:5af3ab7c8a430e4c4dc6a6a588d768a57a969bd7333baacab01f70bdc90d23ff"
 },
 "nbformat": 3,
 "nbformat_minor": 0,
 "worksheets": [
  {
   "cells": [
    {
     "cell_type": "markdown",
     "metadata": {},
     "source": [
      "# Merge Reviewers from a CMT Export\n",
      "\n",
      "### January 2014, Neil D. Lawrence"
     ]
    },
    {
     "cell_type": "markdown",
     "metadata": {},
     "source": [
      "This notebook allows us to merge in reviewers from a CMT export file. It is to be used when you aren't confident about whether the reviewers being merged in are already in the data base or not. For this reason it will query you more carefully over whether a reviewer should be added."
     ]
    },
    {
     "cell_type": "code",
     "collapsed": false,
     "input": [
      "import cmtutils\n",
      "\n",
      "filename='2014-06-03_full_user_list.xls'\n",
      "fieldname = 'FromFullUserList'\n"
     ],
     "language": "python",
     "metadata": {},
     "outputs": []
    },
    {
     "cell_type": "markdown",
     "metadata": {},
     "source": [
      "Now load in the utilities and read from the provided export file."
     ]
    },
    {
     "cell_type": "code",
     "collapsed": false,
     "input": [
      "new_users=cmtutils.cmt_read(filename=filename)\n",
      "db = cmtutils.reviewerdb('reviewers.db')"
     ],
     "language": "python",
     "metadata": {},
     "outputs": []
    },
    {
     "cell_type": "code",
     "collapsed": false,
     "input": [
      "\n",
      "db.add_field(fieldname, 'INTEGER') # add the recording field if it's not already present\n",
      "# Read in the new user list\n",
      "\n",
      "# This line will set the field name to NULL if required. Turned off by default.\n",
      "if False:\n",
      "    db.update_fields(db.ids(), fieldname=fieldname, fieldvalue=None)"
     ],
     "language": "python",
     "metadata": {},
     "outputs": []
    },
    {
     "cell_type": "code",
     "collapsed": false,
     "input": [
      "new_users.reviewers"
     ],
     "language": "python",
     "metadata": {},
     "outputs": []
    },
    {
     "cell_type": "markdown",
     "metadata": {},
     "source": [
      "Try and match or add the reviewer to the system. You don't want to necessarily add them as reviewers straight away, but you may need to know the origin of the new users in the data base. For that reason we add the `user_list` field name to the data base and set its value to 1 if any users are added to the data base from this source."
     ]
    },
    {
     "cell_type": "code",
     "collapsed": false,
     "input": [
      "for i, reviewer in new_users.reviewers.iterrows():\n",
      "    db.match_or_add_reviewer(reviewer, yes=False, fieldname=fieldname)"
     ],
     "language": "python",
     "metadata": {},
     "outputs": []
    },
    {
     "cell_type": "markdown",
     "metadata": {},
     "source": [
      "You will be queried for each user whether you want them to be added to the local data base. "
     ]
    },
    {
     "cell_type": "code",
     "collapsed": false,
     "input": [
      "db.add_user(ds.reviewers, fieldname='FromFullUserList')\n"
     ],
     "language": "python",
     "metadata": {},
     "outputs": []
    },
    {
     "cell_type": "code",
     "collapsed": false,
     "input": [
      "# This is number of added users.\n",
      "db._execute_sql(\"\"\"SELECT COUNT(Active) FROM Reviewers WHERE FromFullUserList=1;\"\"\")"
     ],
     "language": "python",
     "metadata": {},
     "outputs": []
    },
    {
     "cell_type": "code",
     "collapsed": false,
     "input": [
      "ds = cmtutils.drive_store('0AvPDQJD66CovdERrTGxzNmc3cktQOXZBdTBtTkhVS0E', '2014-03-10_NIPS_ACs')\n",
      "ds.read_meta_reviewers()"
     ],
     "language": "python",
     "metadata": {},
     "outputs": []
    },
    {
     "cell_type": "code",
     "collapsed": false,
     "input": [
      "db.add_invites(ds.reviewers, fieldname='SecondRoundInvite')"
     ],
     "language": "python",
     "metadata": {},
     "outputs": []
    },
    {
     "cell_type": "code",
     "collapsed": false,
     "input": [
      "db.export_reviewers(fieldname='SecondRoundInvite')"
     ],
     "language": "python",
     "metadata": {},
     "outputs": []
    },
    {
     "cell_type": "code",
     "collapsed": false,
     "input": [],
     "language": "python",
     "metadata": {},
     "outputs": []
    }
   ],
   "metadata": {}
  }
 ]
}