{
 "metadata": {
  "name": "",
  "signature": "sha256:c2ef898882d34ea6a8e498cdf741a92fa0aa7d281435bdbd5041b8bb6f59716d"
 },
 "nbformat": 3,
 "nbformat_minor": 0,
 "worksheets": [
  {
   "cells": [
    {
     "cell_type": "markdown",
     "metadata": {},
     "source": [
      "# Import Review Scores\n",
      "\n",
      "### 23rd July 2014 Neil D. Lawrence\n",
      "\n",
      "This notebook imports review scores from CMT for analysis. In particular it does some quality checks on correlation, and on review length. It was first used for exploring the status of the reviews and what areas may need to be addressed. This led to the creation of Attention Reports which were emailed to area chairs and highlighted particular issues. Those attention reports can be found "
     ]
    },
    {
     "cell_type": "code",
     "collapsed": false,
     "input": [
      "import cmtutils\n",
      "import sqlite3\n",
      "import pandas as pd\n",
      "import numpy as np\n",
      "import pylab as plt\n",
      "\n",
      "%matplotlib inline\n",
      "plt.rcParams['figure.figsize'] = (10., 8.)\n",
      "plt.rcParams['font.size'] = 16\n",
      "\n",
      "filename = '2014-07-23_paper_list.xls'\n",
      "papers = cmtutils.cmt_papers_read(filename=filename)\n",
      "filename = '2014-07-24_reviews.xls'\n",
      "reviews = cmtutils.cmt_reviews_read(filename=filename)"
     ],
     "language": "python",
     "metadata": {},
     "outputs": []
    },
    {
     "cell_type": "markdown",
     "metadata": {},
     "source": [
      "## Duplicate Papers Correlation\n",
      "\n",
      "For NIPS 2014 we experimented with duplicate papers: we pushed papers through the system twice, exposing them to different subsets of the reviewers. The first thing we'll look at is the duplicate papers. Firstly we identify them by matching on title."
     ]
    },
    {
     "cell_type": "code",
     "collapsed": false,
     "input": [
      "duplicate_list = []\n",
      "for ID, title in papers.papers.Title.iteritems():\n",
      "    if int(ID)>1779 and int(ID) != 1949:\n",
      "        pair = list(papers.papers[papers.papers['Title'].str.contains(papers.papers.Title[ID].strip())].index)\n",
      "        pair.sort(key=int)\n",
      "        duplicate_list.append(pair)"
     ],
     "language": "python",
     "metadata": {},
     "outputs": []
    },
    {
     "cell_type": "markdown",
     "metadata": {},
     "source": [
      "Next we compute the correlation coefficients for the duplicated papers for the average impact and quality scores."
     ]
    },
    {
     "cell_type": "code",
     "collapsed": false,
     "input": [
      "\n",
      "quality = []\n",
      "impact = []\n",
      "confidence = []\n",
      "for duplicate_pair in duplicate_list:\n",
      "    quality.append([np.mean(reviews.reviews.loc[duplicate_pair[0]].Quality), np.mean(reviews.reviews.loc[duplicate_pair[1]].Quality)])\n",
      "    impact.append([np.mean(reviews.reviews.loc[duplicate_pair[0]].Impact), np.mean(reviews.reviews.loc[duplicate_pair[1]].Impact)])\n",
      "    confidence.append([np.mean(reviews.reviews.loc[duplicate_pair[0]].Conf), np.mean(reviews.reviews.loc[duplicate_pair[1]].Conf)])\n",
      "quality = np.array(quality)\n",
      "impact = np.array(impact)\n",
      "confidence = np.array(confidence)\n",
      "quality_cor = np.corrcoef(quality.T)[0, 1]\n",
      "impact_cor = np.corrcoef(impact.T)[0, 1]\n",
      "confidence_cor = np.corrcoef(confidence.T)[0, 1]\n",
      "print \"Quality correlation: \", quality_cor\n",
      "print \"Impact correlation: \", impact_cor\n",
      "print \"Confidence correlation: \", confidence_cor"
     ],
     "language": "python",
     "metadata": {},
     "outputs": []
    },
    {
     "cell_type": "markdown",
     "metadata": {},
     "source": [
      "## Quality Scatter Plot\n",
      "\n",
      "To visualize the quality score correlation we plot the group 1 papers against the group 2 papers. Here we add a small amount of jitter to ensure points to help visualize points that would otherwise fall on the same position. "
     ]
    },
    {
     "cell_type": "code",
     "collapsed": false,
     "input": [
      "plt.plot(quality[:, 0]+np.random.randn(quality.shape[0])*0.06125, quality[:, 1]+np.random.randn(quality.shape[0])*0.06125, 'rx')\n",
      "plt.title('Quality Correlation: ' + str(quality_cor))"
     ],
     "language": "python",
     "metadata": {},
     "outputs": []
    },
    {
     "cell_type": "markdown",
     "metadata": {},
     "source": [
      "## Impact Scatter Plot\n",
      "\n",
      "Similar for the impact score."
     ]
    },
    {
     "cell_type": "code",
     "collapsed": false,
     "input": [
      "plt.plot(impact[:, 0]+np.random.randn(impact.shape[0])*0.06125, impact[:, 1]+np.random.randn(impact.shape[0])*0.06125, 'rx')\n",
      "plt.title('Impact Correlation: ' + str(impact_cor))"
     ],
     "language": "python",
     "metadata": {},
     "outputs": []
    },
    {
     "cell_type": "markdown",
     "metadata": {},
     "source": [
      "## Confidence Correlation Score\n",
      "\n",
      "Correlation of confidence between the two duplicates."
     ]
    },
    {
     "cell_type": "code",
     "collapsed": false,
     "input": [
      "plt.plot(confidence[:, 0]+np.random.randn(confidence.shape[0])*0.06125, confidence[:, 1]+np.random.randn(confidence.shape[0])*0.06125, 'rx')\n",
      "plt.title('Confidence Correlation: ' + str(confidence_cor))"
     ],
     "language": "python",
     "metadata": {},
     "outputs": []
    },
    {
     "cell_type": "markdown",
     "metadata": {},
     "source": [
      "## Quality Score\n",
      "\n",
      "The main score people are familiar with for NIPS, the quality score, ranging from 1 to 10. A paper with 6 or above is *recommended* for accept. Here we plot a histogram of individual review quality scores for the whole conference."
     ]
    },
    {
     "cell_type": "code",
     "collapsed": false,
     "input": [
      "reviews.reviews.Quality.hist(bins=10, range=(1, 10))\n",
      "plt.title('Reviewer Scores')"
     ],
     "language": "python",
     "metadata": {},
     "outputs": []
    },
    {
     "cell_type": "markdown",
     "metadata": {},
     "source": [
      "### Span of Quality Score\n",
      "\n",
      "Another question of interest is what is the typical 'span' of quality scores, i.e. how consistent are the reviews (we could also measure this by variance, but span gives us the maximum score minus the minimum which gives a sensible integer value. If a paper has a very large span, it may need attention from the are chair. First we need to compute this for each paper."
     ]
    },
    {
     "cell_type": "code",
     "collapsed": false,
     "input": [
      "span = []\n",
      "for paper in sorted(set(reviews.reviews.index), key = int):\n",
      "    span.append(np.max(reviews.reviews.loc[paper].Quality) \n",
      "                - np.min(reviews.reviews.loc[paper].Quality))\n",
      "span = np.array(span)\n",
      "plt.hist(span, bins = np.max(span)-np.min(span)+1, range=(np.min(span),np.max(span)+1))\n",
      "plt.title('Span of Reviewer Scores per Paper')"
     ],
     "language": "python",
     "metadata": {},
     "outputs": []
    },
    {
     "cell_type": "markdown",
     "metadata": {},
     "source": [
      "## Impact\n",
      "\n",
      "Impact score is either 1 or 2. This was an innovation introduced by Zoubin and Max to try and help identify papers that were likely to have an influence (independently of their technical qualities). Let's see how often a paper is scored as high impact."
     ]
    },
    {
     "cell_type": "code",
     "collapsed": false,
     "input": [
      "reviews.reviews.Impact.hist(bins=2, range=(1, 2))\n",
      "plt.title('Histogram of Impact')"
     ],
     "language": "python",
     "metadata": {},
     "outputs": []
    },
    {
     "cell_type": "markdown",
     "metadata": {},
     "source": [
      "## Confidence Score\n",
      "\n",
      "Confidence scores vary from 1 to 5. Low confidence scores *may* indicate a inappropriate reviewer allocation, but just as often they'll indicate a poorly written paper or a paper that isn't really appropriate for the NIPS community. By investigating confidence scores we can determine papers that may need attention."
     ]
    },
    {
     "cell_type": "code",
     "collapsed": false,
     "input": [
      "reviews.reviews.Conf.hist(bins=5, range=(1, 5))\n",
      "plt.title('Histogram of Confidence')"
     ],
     "language": "python",
     "metadata": {},
     "outputs": []
    },
    {
     "cell_type": "markdown",
     "metadata": {},
     "source": [
      "## Length of Reviews\n",
      "\n",
      "Another concern could be very short reviews. Let's have a look at review length for the conference reviews."
     ]
    },
    {
     "cell_type": "code",
     "collapsed": false,
     "input": [
      "comment_len = []\n",
      "for paper, comments in reviews.reviews.Comments.iteritems():\n",
      "    comment_len.append(len(comments))\n",
      "comment_len = np.array(comment_len)\n",
      "plt.hist(comment_len,bins=20)"
     ],
     "language": "python",
     "metadata": {},
     "outputs": []
    },
    {
     "cell_type": "markdown",
     "metadata": {},
     "source": [
      "This script goes through reviews and prints those which are less than 200 characters long. These may need addressing by alerting the area chair or prompting the reviewer to provide more detailed comments."
     ]
    },
    {
     "cell_type": "code",
     "collapsed": false,
     "input": [
      "for index, review in reviews.reviews.loc[(comment_len<200)].iterrows():\n",
      "    print index, review['Email'], review['Comments']\n",
      "#plt.plot(comment_len, reviews.reviews.Quality, 'rx')"
     ],
     "language": "python",
     "metadata": {},
     "outputs": []
    },
    {
     "cell_type": "code",
     "collapsed": false,
     "input": [
      "comments_len = pd.Series(comment_len, index=reviews.reviews.index)"
     ],
     "language": "python",
     "metadata": {},
     "outputs": []
    },
    {
     "cell_type": "markdown",
     "metadata": {},
     "source": [
      "There is one paper with a comment length of over 12000 characters. That's quite long. Let's also have a look at that."
     ]
    },
    {
     "cell_type": "code",
     "collapsed": false,
     "input": [
      "comments_len.hist(bins=20)\n",
      "reviews.reviews.loc[comments_len>12000][['Quality', 'Impact', 'Email']]"
     ],
     "language": "python",
     "metadata": {},
     "outputs": []
    }
   ],
   "metadata": {}
  }
 ]
}