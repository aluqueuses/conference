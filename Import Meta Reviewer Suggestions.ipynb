{
 "metadata": {
  "name": "",
  "signature": "sha256:65ae527250f818c8e9ecf15964605780966060443cb6921071c0861448c96db7"
 },
 "nbformat": 3,
 "nbformat_minor": 0,
 "worksheets": [
  {
   "cells": [
    {
     "cell_type": "markdown",
     "metadata": {},
     "source": [
      "# Import Meta Reviewer Suggestions\n",
      "\n",
      "### Neil D. Lawrence 13th April 2014"
     ]
    },
    {
     "cell_type": "markdown",
     "metadata": {},
     "source": [
      "Get the meta reviewer names from the google spreadsheet. Then update the reviewer data base, `reviewer.db` with meta reviewers, then export as invites into CMT. Need to make a list of the meta reviewers only from the local data base to upload to CMT for the invites. Potential Area Chairs were stored in a Google doc spreadsheet. For access to the google spreadsheet to work, you need to set, in `cmtutils` the `email` and `password` variables to settings that can access the relevant google doc.\n",
      "\n",
      "The Google doc contained one entry per meta reviewer in the form of \n",
      "\n",
      "```\n",
      "Name | Institute | Subjects | Email | Answer\n",
      "```\n"
     ]
    },
    {
     "cell_type": "code",
     "collapsed": false,
     "input": [
      "import cmtutils\n",
      "from config import config\n",
      "# Download our meta-reviewer names from google doc.\n",
      "spreadsheet_key = config.get('google docs', 'program_committee_key')\n",
      "spreadsheet_name = '2014-01-19_NIPS_ACs'\n",
      "ds = cmtutils.drive_store(spreadsheet_key, spreadsheet_name)\n",
      "column_fields={'1':'Name', '2':'Institute', '3':'Subjects', '4':'Email', '5':'Answer'}\n",
      "ds.read(column_fields=column_fields)"
     ],
     "language": "python",
     "metadata": {},
     "outputs": []
    },
    {
     "cell_type": "markdown",
     "metadata": {},
     "source": [
      "Now take a look at the suggested area chairs to make sure they were read in correctly."
     ]
    },
    {
     "cell_type": "code",
     "collapsed": false,
     "input": [
      "ds.reviewers"
     ],
     "language": "python",
     "metadata": {},
     "outputs": []
    },
    {
     "cell_type": "markdown",
     "metadata": {},
     "source": [
      "To try and keep track of everything we have a local SQLite data base. Here we load that data base in and add invites, labelling them as 'FirstRoundAreaChairInvite'."
     ]
    },
    {
     "cell_type": "code",
     "collapsed": false,
     "input": [
      "# Load in the reviewer data base.\n",
      "db = cmtutils.reviewerdb('test.db')\n",
      "fieldname = 'FirstRoundAreaChairInvite'\n",
      "db.add_field(fieldname) # Add the field if it doesn't exist already"
     ],
     "language": "python",
     "metadata": {},
     "outputs": []
    },
    {
     "cell_type": "markdown",
     "metadata": {},
     "source": [
      "Now add the users to the data base."
     ]
    },
    {
     "cell_type": "code",
     "collapsed": false,
     "input": [
      "db.add_users(ds.reviewers, fieldname=fieldname)"
     ],
     "language": "python",
     "metadata": {},
     "outputs": []
    },
    {
     "cell_type": "markdown",
     "metadata": {},
     "source": [
      "We run an SQL command on the data base to count how many invites we have where there is no reply (we assume that the column Metareviewer is set to NULL when there is no reply)."
     ]
    },
    {
     "cell_type": "code",
     "collapsed": false,
     "input": [
      "# This is number of non replied first round invitees.\n",
      "print db._execute_sql('SELECT COUNT(Active) FROM Reviewers WHERE ' + fieldname + '=1 AND Metareviewer is 0;')\n",
      "# This exports reviewers into a file called cmt_export.tsv ready for invite.\n",
      "#db.export_reviewers(sql='FirstRoundInvite=1')"
     ],
     "language": "python",
     "metadata": {},
     "outputs": []
    },
    {
     "cell_type": "heading",
     "level": 2,
     "metadata": {},
     "source": [
      "Second Wave of Invites"
     ]
    },
    {
     "cell_type": "markdown",
     "metadata": {},
     "source": [
      "We proceeded with a second wave of invites on March the 10th, this script loads those invites in, they are in the same spreadsheet file, but on a different sheet."
     ]
    },
    {
     "cell_type": "code",
     "collapsed": false,
     "input": [
      "spreadsheet_name = '2014-03-10_NIPS_ACs'\n",
      "ds = cmtutils.drive_store(spreadsheet_name, spreadsheet_key)\n",
      "ds.read(column_fields=column_fields)\n",
      "fieldname='SecoundRoundAreaChairInvite'"
     ],
     "language": "python",
     "metadata": {},
     "outputs": []
    },
    {
     "cell_type": "markdown",
     "metadata": {},
     "source": [
      "Once again we can check users have been loaded from the spreadsheet properly."
     ]
    },
    {
     "cell_type": "code",
     "collapsed": false,
     "input": [
      "ds.reviewers"
     ],
     "language": "python",
     "metadata": {},
     "outputs": []
    },
    {
     "cell_type": "markdown",
     "metadata": {},
     "source": [
      "And now we can add them to the data base."
     ]
    },
    {
     "cell_type": "code",
     "collapsed": false,
     "input": [
      "db.add_users(ds.reviewers, fieldname=fieldname)"
     ],
     "language": "python",
     "metadata": {},
     "outputs": []
    },
    {
     "cell_type": "markdown",
     "metadata": {},
     "source": [
      "We can check how many reviewers we've just added who are not currently meta reviewers with the following SQL command."
     ]
    },
    {
     "cell_type": "code",
     "collapsed": false,
     "input": [
      "print db._execute_sql(\"\"\"SELECT COUNT(Active) FROM Reviewers WHERE ' + fieldname + '=1 AND Metareviewer is NULL;\"\"\")\n",
      "db.export_reviewers(sql=fieldname + '=1') # this exports those reviews into CMT for an upload."
     ],
     "language": "python",
     "metadata": {},
     "outputs": []
    },
    {
     "cell_type": "markdown",
     "metadata": {},
     "source": [
      "### Counting Number of Metareviewers\n",
      "\n",
      "This command gives us the total number of meta reviewers by calling SQL on the data base."
     ]
    },
    {
     "cell_type": "code",
     "collapsed": false,
     "input": [
      "db._execute_sql(\"\"\"SELECT COUNT(Active) FROM Reviewers WHERE Metareviewer=1;\"\"\")"
     ],
     "language": "python",
     "metadata": {},
     "outputs": []
    }
   ],
   "metadata": {}
  }
 ]
}