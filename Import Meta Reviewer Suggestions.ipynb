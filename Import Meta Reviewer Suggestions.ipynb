{
 "cells": [
  {
   "cell_type": "markdown",
   "metadata": {},
   "source": [
    "# Import Meta Reviewer Suggestions\n",
    "\n",
    "### Neil D. Lawrence 13th April 2014\n",
    "\n",
    "#### updated 2nd November 2015 in preparation for NIPS 2016"
   ]
  },
  {
   "cell_type": "markdown",
   "metadata": {},
   "source": [
    "Get the meta reviewer names from the google spreadsheet. Then update the reviewer data base, `reviewer.db` with meta reviewers, then export as invites into CMT. Need to make a list of the meta reviewers only from the local data base to upload to CMT for the invites. Potential Area Chairs were stored in a Google doc spreadsheet. For access to the google spreadsheet to work, you need to have set up `oauth2` and shared the sheets for access. \n",
    "\n",
    "Configuration settings specific to `cmtutils.py` are stored in `.cmt_user.cfg`. Inside this file should be a section as follows:\n",
    "\n",
    "```\n",
    "[google docs]\n",
    "# Here include the spreadsheet keys of program committee and reviewer candiates\n",
    "program_committee_key = \n",
    "reviewer_candidate_key =  \n",
    "buddy_pair_key = \n",
    "global_results_key = \n",
    "```\n",
    "\n",
    "The Google sheet pointed to by `program_committee_key` contains one entry per potential meta reviewer in the form: \n",
    "\n",
    "```\n",
    "Name | Institute | Subjects | Email | Answer\n",
    "```\n"
   ]
  },
  {
   "cell_type": "code",
   "execution_count": null,
   "metadata": {
    "collapsed": false
   },
   "outputs": [],
   "source": [
    "import cmtutils\n",
    "from config import config\n",
    "import pods\n",
    "# Download our meta-reviewer names from google doc.\n",
    "spreadsheet_key = config.get('google docs', 'program_committee_key')\n",
    "spreadsheet_name = '2014-01-19_NIPS_ACs'\n",
    "res = pods.google.resource(id=spreadsheet_key)\n",
    "ds = cmtutils.drive_store(res, spreadsheet_name)\n",
    "ds.read_meta_reviewers()\n"
   ]
  },
  {
   "cell_type": "markdown",
   "metadata": {},
   "source": [
    "Now take a look at the suggested area chairs to make sure they were read in correctly."
   ]
  },
  {
   "cell_type": "code",
   "execution_count": null,
   "metadata": {
    "collapsed": false
   },
   "outputs": [],
   "source": [
    "ds"
   ]
  },
  {
   "cell_type": "markdown",
   "metadata": {},
   "source": [
    "To try and keep track of everything we have a local SQLite data base. Here we load that data base in and add invites, labelling them as 'FirstRoundAreaChairInvite'."
   ]
  },
  {
   "cell_type": "code",
   "execution_count": null,
   "metadata": {
    "collapsed": false
   },
   "outputs": [],
   "source": [
    "# Load in the reviewer data base.\n",
    "db = cmtutils.reviewerdb('test.db')\n",
    "fieldname = 'FirstRoundAreaChairInvite'\n",
    "db.add_field(fieldname) # Add the field if it doesn't exist already"
   ]
  },
  {
   "cell_type": "code",
   "execution_count": null,
   "metadata": {
    "collapsed": false
   },
   "outputs": [],
   "source": [
    "db"
   ]
  },
  {
   "cell_type": "markdown",
   "metadata": {},
   "source": [
    "Now add the users to the data base."
   ]
  },
  {
   "cell_type": "code",
   "execution_count": null,
   "metadata": {
    "collapsed": false
   },
   "outputs": [],
   "source": [
    "db.add_users(ds.reviewers, fieldname=fieldname)"
   ]
  },
  {
   "cell_type": "markdown",
   "metadata": {},
   "source": [
    "We run an SQL command on the data base to count how many invites we have where there is no reply (we assume that the column Metareviewer is set to NULL when there is no reply)."
   ]
  },
  {
   "cell_type": "code",
   "execution_count": null,
   "metadata": {
    "collapsed": false
   },
   "outputs": [],
   "source": [
    "# This is number of non replied first round invitees.\n",
    "print(db._execute_sql('SELECT COUNT(Active) FROM Reviewers WHERE ' + fieldname + '=1 AND Metareviewer is 0;'))\n",
    "# This exports reviewers into a file called cmt_export.tsv ready for invite.\n",
    "#db.export_reviewers(sql='FirstRoundInvite=1')"
   ]
  },
  {
   "cell_type": "markdown",
   "metadata": {},
   "source": [
    "## Second Wave of Invites\n",
    "\n",
    "We proceeded with a second wave of invites on March the 10th, this script loads those invites in, they are in the same spreadsheet file, but on a different sheet."
   ]
  },
  {
   "cell_type": "code",
   "execution_count": null,
   "metadata": {
    "collapsed": false
   },
   "outputs": [],
   "source": [
    "spreadsheet_name = '2014-03-10_NIPS_ACs'\n",
    "res = pods.google.resource(id=spreadsheet_key)\n",
    "ds = cmtutils.drive_store(res, spreadsheet_name)\n",
    "ds.read_meta_reviewers()\n",
    "fieldname='SecoundRoundAreaChairInvite'"
   ]
  },
  {
   "cell_type": "markdown",
   "metadata": {},
   "source": [
    "Once again we can check users have been loaded from the spreadsheet properly."
   ]
  },
  {
   "cell_type": "code",
   "execution_count": null,
   "metadata": {
    "collapsed": false
   },
   "outputs": [],
   "source": [
    "ds.reviewers"
   ]
  },
  {
   "cell_type": "markdown",
   "metadata": {},
   "source": [
    "And now we can add them to the data base."
   ]
  },
  {
   "cell_type": "code",
   "execution_count": null,
   "metadata": {
    "collapsed": false
   },
   "outputs": [],
   "source": [
    "db.add_users(ds.reviewers, fieldname=fieldname)"
   ]
  },
  {
   "cell_type": "markdown",
   "metadata": {},
   "source": [
    "We can check how many reviewers we've just added who are not currently meta reviewers with the following SQL command."
   ]
  },
  {
   "cell_type": "code",
   "execution_count": null,
   "metadata": {
    "collapsed": false
   },
   "outputs": [],
   "source": [
    "print(db._execute_sql(\"\"\"SELECT COUNT(Active) FROM Reviewers WHERE ' + fieldname + '=1 AND Metareviewer is NULL;\"\"\"))\n",
    "db.export_reviewers(sql=fieldname + '=1') # this exports those reviews into CMT for an upload."
   ]
  },
  {
   "cell_type": "markdown",
   "metadata": {},
   "source": [
    "### Counting Number of Metareviewers\n",
    "\n",
    "This command gives us the total number of meta reviewers by calling SQL on the data base."
   ]
  },
  {
   "cell_type": "code",
   "execution_count": null,
   "metadata": {
    "collapsed": false
   },
   "outputs": [],
   "source": [
    "db._execute_sql(\"\"\"SELECT COUNT(Active) FROM Reviewers WHERE Metareviewer=1;\"\"\")"
   ]
  },
  {
   "cell_type": "code",
   "execution_count": null,
   "metadata": {
    "collapsed": true
   },
   "outputs": [],
   "source": []
  }
 ],
 "metadata": {
  "kernelspec": {
   "display_name": "Python 3",
   "language": "python",
   "name": "python3"
  }
 },
 "nbformat": 4,
 "nbformat_minor": 0
}
